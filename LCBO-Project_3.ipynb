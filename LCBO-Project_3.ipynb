{
 "cells": [
  {
   "cell_type": "code",
   "execution_count": 1,
   "id": "8bf9afea",
   "metadata": {},
   "outputs": [],
   "source": [
    "from splinter import Browser\n",
    "from bs4 import BeautifulSoup\n",
    "import time\n",
    "from pprint import pprint\n",
    "import pandas as pd\n",
    "from selenium.webdriver.chrome.options import Options\n",
    "\n",
    "browser = Browser('chrome')\n",
    "\n",
    "# # Chrome options and preferences\n",
    "# chrome_options = Options()\n",
    "# chrome_options.add_argument(\"--blink-settings=imagesEnabled=false\")\n",
    "\n",
    "# # Chrome with options\n",
    "# browser = Browser('chrome', options=chrome_options)\n"
   ]
  },
  {
   "cell_type": "code",
   "execution_count": 2,
   "id": "8ea4667a",
   "metadata": {},
   "outputs": [],
   "source": [
    "\n",
    "# Load the web page\n",
    "url = \"https://www.lcbo.com/en/products#t=clp-products&sort=relevancy&layout=card&f:@lcbo_current_offer=[On%20Sale]&f:@ec_category=[Wine]\"\n",
    "browser.visit(url)\n",
    "\n",
    "# To select \"English\" as preffered language\n",
    "time.sleep(3)\n",
    "results = browser.links.find_by_text('English')\n",
    "results.click()\n",
    "time.sleep(3)\n",
    "\n",
    "html = browser.html\n",
    "soup=BeautifulSoup(html, 'html.parser')"
   ]
  },
  {
   "cell_type": "code",
   "execution_count": 3,
   "id": "92375b0d",
   "metadata": {},
   "outputs": [],
   "source": [
    "cookie = browser.find_by_id('btn-cookie-allow').click()\n",
    "# cookie.click()"
   ]
  },
  {
   "cell_type": "code",
   "execution_count": 4,
   "id": "8e7ca475",
   "metadata": {},
   "outputs": [
    {
     "name": "stdout",
     "output_type": "stream",
     "text": [
      "0\n",
      "1\n",
      "2\n"
     ]
    }
   ],
   "source": [
    "iteration = 0\n",
    "while True:\n",
    "    try:     \n",
    "        # Wait for 1 second\n",
    "        time.sleep(1)\n",
    "        # Click on Load More button\n",
    "        browser.find_by_id('loadMore').click()\n",
    "    except:\n",
    "        break\n",
    "    print(iteration)\n",
    "    iteration += 1"
   ]
  },
  {
   "cell_type": "code",
   "execution_count": 5,
   "id": "bc5cad71",
   "metadata": {},
   "outputs": [],
   "source": [
    "html = browser.html\n",
    "    \n",
    "soup = BeautifulSoup(html, 'html.parser')\n",
    "\n",
    "all_links = soup.find_all(\"div\", class_ = 'coveo-product-items')\n",
    "\n",
    "links = []\n",
    "\n",
    "for link in all_links:\n",
    "    results = link.a['href']\n",
    "    links.append(results)\n",
    "        "
   ]
  },
  {
   "cell_type": "code",
   "execution_count": 6,
   "id": "dd7f6c55",
   "metadata": {},
   "outputs": [
    {
     "data": {
      "text/plain": [
       "167"
      ]
     },
     "execution_count": 6,
     "metadata": {},
     "output_type": "execute_result"
    }
   ],
   "source": [
    "len(links)"
   ]
  },
  {
   "cell_type": "code",
   "execution_count": 7,
   "id": "dab256df",
   "metadata": {
    "scrolled": true
   },
   "outputs": [
    {
     "name": "stdout",
     "output_type": "stream",
     "text": [
      "0\n",
      "1\n",
      "2\n",
      "3\n",
      "4\n",
      "5\n",
      "6\n",
      "7\n",
      "8\n",
      "9\n",
      "10\n",
      "11\n",
      "12\n",
      "13\n",
      "14\n",
      "15\n",
      "16\n",
      "17\n",
      "18\n",
      "19\n"
     ]
    }
   ],
   "source": [
    "regular_price = []\n",
    "sale_price = []\n",
    "name = []\n",
    "rating = []\n",
    "onsale = [] #this is the On Sale tag\n",
    "reviews = []\n",
    "size = []\n",
    "description = []\n",
    "category = []\n",
    "details_list = []\n",
    "\n",
    "\n",
    "max_iteration2 = 20\n",
    "iteration2 = 0\n",
    "\n",
    "\n",
    "for record in links:\n",
    "    if iteration2 >= max_iteration2:\n",
    "        break\n",
    "    url = record\n",
    "    browser.visit(url)\n",
    "    html = browser.html\n",
    "    soup = BeautifulSoup(html, 'html.parser')\n",
    "#     time.sleep(1)\n",
    "#     browser.find_by_css('my_store_close_button').click()\n",
    "    \n",
    "    try:\n",
    "        old_price = soup.find('span', class_ = 'old-price')\n",
    "        old = old_price.find('span', class_ = 'price')\n",
    "        regular_price.append(old.find('span', class_ = 'price').text)\n",
    "    except AttributeError:\n",
    "        rating.append('N/A')\n",
    "\n",
    "    try:\n",
    "        on_sale_price = soup.find('span', class_ = 'special-price')\n",
    "        new_price = on_sale_price.find('span', class_ = 'price')\n",
    "        sale_price.append(new_price.find('span', class_ = 'price').text)\n",
    "    except AttributeError:\n",
    "        rating.append('N/A')\n",
    "    \n",
    "    try:    \n",
    "        name.append(soup.find('div', class_ = 'page-title-wrapper').text)\n",
    "    except AttributeError:\n",
    "        rating.append('N/A')\n",
    "        \n",
    "    try:\n",
    "        onsale.append(soup.find('div', class_ = 'amlabel-text').text)\n",
    "    except AttributeError:\n",
    "        rating.append('N/A')\n",
    "    \n",
    "    try:\n",
    "        rating.append(soup.find('div', class_ = 'bv_avgRating_component_container notranslate').text)\n",
    "    except AttributeError:\n",
    "        rating.append('N/A')\n",
    "    \n",
    "    try:\n",
    "        reviews.append(soup.find('div', class_ = 'bv_numReviews_text').text)\n",
    "    except AttributeError:\n",
    "        rating.append('N/A')\n",
    "    \n",
    "    try:\n",
    "        size.append(soup.find('div', class_ = 'lcbo-product-size').text)\n",
    "    except AttributeError:\n",
    "        rating.append('N/A')\n",
    "        \n",
    "    try:\n",
    "        description.append(soup.find('div', class_ = 'testing_note').text)\n",
    "    except AttributeError:\n",
    "        rating.append('N/A')\n",
    "        \n",
    "    categories_all = soup.find('div', class_ = 'breadcrumbs')\n",
    "    categories = categories_all.find_all('li', class_ = 'item')\n",
    "    category_list = []\n",
    "\n",
    "    for category_record in categories:\n",
    "        category_list.append(category_record.text)\n",
    "    category.append(category_list[-2])\n",
    "\n",
    "    moredetail = soup.find('div', class_ = 'moredetail')\n",
    "    all_details = moredetail.find_all('li')\n",
    "    details = {}\n",
    "\n",
    "    for detail_record in all_details:\n",
    "        details_value = detail_record.find('div', class_ = 'value').text\n",
    "        details_name = detail_record.find('div', class_ = 'label').text\n",
    "        details[details_name] = details_value\n",
    "\n",
    "    details_list.append(details)\n",
    "#     try:\n",
    "#         moretaste = soup.find('div', class_ = 'foodParings pip-info')\n",
    "#         all_taste = moretaste.find_all('li')\n",
    "#         taste = {}\n",
    "\n",
    "#         for taste_record in all_taste:\n",
    "#             taste_value1 = taste_record.find('div', class_ = 'value').text\n",
    "#             taste_name = taste_record.find('div', class_ = 'label').text\n",
    "#             taste_value = taste_value1.get('aria-label')\n",
    "#             taste[taste_name] = taste_value\n",
    "#         taste_list.append(taste)\n",
    "#     except AttributeError:\n",
    "#         taste_list.append('N/A')\n",
    "    \n",
    "    print(iteration2)\n",
    "    iteration2 += 1\n",
    "\n"
   ]
  },
  {
   "cell_type": "code",
   "execution_count": 11,
   "id": "930de2b3",
   "metadata": {},
   "outputs": [
    {
     "ename": "ValueError",
     "evalue": "All arrays must be of the same length",
     "output_type": "error",
     "traceback": [
      "\u001b[1;31m---------------------------------------------------------------------------\u001b[0m",
      "\u001b[1;31mValueError\u001b[0m                                Traceback (most recent call last)",
      "\u001b[1;32m~\\AppData\\Local\\Temp\\ipykernel_2916\\3970451055.py\u001b[0m in \u001b[0;36m<module>\u001b[1;34m\u001b[0m\n\u001b[0;32m     16\u001b[0m \u001b[1;33m\u001b[0m\u001b[0m\n\u001b[0;32m     17\u001b[0m \u001b[1;31m# Create a dataframe from the data dictionary\u001b[0m\u001b[1;33m\u001b[0m\u001b[1;33m\u001b[0m\u001b[0m\n\u001b[1;32m---> 18\u001b[1;33m \u001b[0mdf\u001b[0m \u001b[1;33m=\u001b[0m \u001b[0mpd\u001b[0m\u001b[1;33m.\u001b[0m\u001b[0mDataFrame\u001b[0m\u001b[1;33m(\u001b[0m\u001b[0mdata\u001b[0m\u001b[1;33m)\u001b[0m\u001b[1;33m\u001b[0m\u001b[1;33m\u001b[0m\u001b[0m\n\u001b[0m\u001b[0;32m     19\u001b[0m \u001b[1;33m\u001b[0m\u001b[0m\n\u001b[0;32m     20\u001b[0m \u001b[1;31m# details_df = pd.json_normalize(df['Details'])\u001b[0m\u001b[1;33m\u001b[0m\u001b[1;33m\u001b[0m\u001b[0m\n",
      "\u001b[1;32m~\\anaconda3\\lib\\site-packages\\pandas\\core\\frame.py\u001b[0m in \u001b[0;36m__init__\u001b[1;34m(self, data, index, columns, dtype, copy)\u001b[0m\n\u001b[0;32m    634\u001b[0m         \u001b[1;32melif\u001b[0m \u001b[0misinstance\u001b[0m\u001b[1;33m(\u001b[0m\u001b[0mdata\u001b[0m\u001b[1;33m,\u001b[0m \u001b[0mdict\u001b[0m\u001b[1;33m)\u001b[0m\u001b[1;33m:\u001b[0m\u001b[1;33m\u001b[0m\u001b[1;33m\u001b[0m\u001b[0m\n\u001b[0;32m    635\u001b[0m             \u001b[1;31m# GH#38939 de facto copy defaults to False only in non-dict cases\u001b[0m\u001b[1;33m\u001b[0m\u001b[1;33m\u001b[0m\u001b[0m\n\u001b[1;32m--> 636\u001b[1;33m             \u001b[0mmgr\u001b[0m \u001b[1;33m=\u001b[0m \u001b[0mdict_to_mgr\u001b[0m\u001b[1;33m(\u001b[0m\u001b[0mdata\u001b[0m\u001b[1;33m,\u001b[0m \u001b[0mindex\u001b[0m\u001b[1;33m,\u001b[0m \u001b[0mcolumns\u001b[0m\u001b[1;33m,\u001b[0m \u001b[0mdtype\u001b[0m\u001b[1;33m=\u001b[0m\u001b[0mdtype\u001b[0m\u001b[1;33m,\u001b[0m \u001b[0mcopy\u001b[0m\u001b[1;33m=\u001b[0m\u001b[0mcopy\u001b[0m\u001b[1;33m,\u001b[0m \u001b[0mtyp\u001b[0m\u001b[1;33m=\u001b[0m\u001b[0mmanager\u001b[0m\u001b[1;33m)\u001b[0m\u001b[1;33m\u001b[0m\u001b[1;33m\u001b[0m\u001b[0m\n\u001b[0m\u001b[0;32m    637\u001b[0m         \u001b[1;32melif\u001b[0m \u001b[0misinstance\u001b[0m\u001b[1;33m(\u001b[0m\u001b[0mdata\u001b[0m\u001b[1;33m,\u001b[0m \u001b[0mma\u001b[0m\u001b[1;33m.\u001b[0m\u001b[0mMaskedArray\u001b[0m\u001b[1;33m)\u001b[0m\u001b[1;33m:\u001b[0m\u001b[1;33m\u001b[0m\u001b[1;33m\u001b[0m\u001b[0m\n\u001b[0;32m    638\u001b[0m             \u001b[1;32mimport\u001b[0m \u001b[0mnumpy\u001b[0m\u001b[1;33m.\u001b[0m\u001b[0mma\u001b[0m\u001b[1;33m.\u001b[0m\u001b[0mmrecords\u001b[0m \u001b[1;32mas\u001b[0m \u001b[0mmrecords\u001b[0m\u001b[1;33m\u001b[0m\u001b[1;33m\u001b[0m\u001b[0m\n",
      "\u001b[1;32m~\\anaconda3\\lib\\site-packages\\pandas\\core\\internals\\construction.py\u001b[0m in \u001b[0;36mdict_to_mgr\u001b[1;34m(data, index, columns, dtype, typ, copy)\u001b[0m\n\u001b[0;32m    500\u001b[0m         \u001b[1;31m# TODO: can we get rid of the dt64tz special case above?\u001b[0m\u001b[1;33m\u001b[0m\u001b[1;33m\u001b[0m\u001b[0m\n\u001b[0;32m    501\u001b[0m \u001b[1;33m\u001b[0m\u001b[0m\n\u001b[1;32m--> 502\u001b[1;33m     \u001b[1;32mreturn\u001b[0m \u001b[0marrays_to_mgr\u001b[0m\u001b[1;33m(\u001b[0m\u001b[0marrays\u001b[0m\u001b[1;33m,\u001b[0m \u001b[0mcolumns\u001b[0m\u001b[1;33m,\u001b[0m \u001b[0mindex\u001b[0m\u001b[1;33m,\u001b[0m \u001b[0mdtype\u001b[0m\u001b[1;33m=\u001b[0m\u001b[0mdtype\u001b[0m\u001b[1;33m,\u001b[0m \u001b[0mtyp\u001b[0m\u001b[1;33m=\u001b[0m\u001b[0mtyp\u001b[0m\u001b[1;33m,\u001b[0m \u001b[0mconsolidate\u001b[0m\u001b[1;33m=\u001b[0m\u001b[0mcopy\u001b[0m\u001b[1;33m)\u001b[0m\u001b[1;33m\u001b[0m\u001b[1;33m\u001b[0m\u001b[0m\n\u001b[0m\u001b[0;32m    503\u001b[0m \u001b[1;33m\u001b[0m\u001b[0m\n\u001b[0;32m    504\u001b[0m \u001b[1;33m\u001b[0m\u001b[0m\n",
      "\u001b[1;32m~\\anaconda3\\lib\\site-packages\\pandas\\core\\internals\\construction.py\u001b[0m in \u001b[0;36marrays_to_mgr\u001b[1;34m(arrays, columns, index, dtype, verify_integrity, typ, consolidate)\u001b[0m\n\u001b[0;32m    118\u001b[0m         \u001b[1;31m# figure out the index, if necessary\u001b[0m\u001b[1;33m\u001b[0m\u001b[1;33m\u001b[0m\u001b[0m\n\u001b[0;32m    119\u001b[0m         \u001b[1;32mif\u001b[0m \u001b[0mindex\u001b[0m \u001b[1;32mis\u001b[0m \u001b[1;32mNone\u001b[0m\u001b[1;33m:\u001b[0m\u001b[1;33m\u001b[0m\u001b[1;33m\u001b[0m\u001b[0m\n\u001b[1;32m--> 120\u001b[1;33m             \u001b[0mindex\u001b[0m \u001b[1;33m=\u001b[0m \u001b[0m_extract_index\u001b[0m\u001b[1;33m(\u001b[0m\u001b[0marrays\u001b[0m\u001b[1;33m)\u001b[0m\u001b[1;33m\u001b[0m\u001b[1;33m\u001b[0m\u001b[0m\n\u001b[0m\u001b[0;32m    121\u001b[0m         \u001b[1;32melse\u001b[0m\u001b[1;33m:\u001b[0m\u001b[1;33m\u001b[0m\u001b[1;33m\u001b[0m\u001b[0m\n\u001b[0;32m    122\u001b[0m             \u001b[0mindex\u001b[0m \u001b[1;33m=\u001b[0m \u001b[0mensure_index\u001b[0m\u001b[1;33m(\u001b[0m\u001b[0mindex\u001b[0m\u001b[1;33m)\u001b[0m\u001b[1;33m\u001b[0m\u001b[1;33m\u001b[0m\u001b[0m\n",
      "\u001b[1;32m~\\anaconda3\\lib\\site-packages\\pandas\\core\\internals\\construction.py\u001b[0m in \u001b[0;36m_extract_index\u001b[1;34m(data)\u001b[0m\n\u001b[0;32m    672\u001b[0m             \u001b[0mlengths\u001b[0m \u001b[1;33m=\u001b[0m \u001b[0mlist\u001b[0m\u001b[1;33m(\u001b[0m\u001b[0mset\u001b[0m\u001b[1;33m(\u001b[0m\u001b[0mraw_lengths\u001b[0m\u001b[1;33m)\u001b[0m\u001b[1;33m)\u001b[0m\u001b[1;33m\u001b[0m\u001b[1;33m\u001b[0m\u001b[0m\n\u001b[0;32m    673\u001b[0m             \u001b[1;32mif\u001b[0m \u001b[0mlen\u001b[0m\u001b[1;33m(\u001b[0m\u001b[0mlengths\u001b[0m\u001b[1;33m)\u001b[0m \u001b[1;33m>\u001b[0m \u001b[1;36m1\u001b[0m\u001b[1;33m:\u001b[0m\u001b[1;33m\u001b[0m\u001b[1;33m\u001b[0m\u001b[0m\n\u001b[1;32m--> 674\u001b[1;33m                 \u001b[1;32mraise\u001b[0m \u001b[0mValueError\u001b[0m\u001b[1;33m(\u001b[0m\u001b[1;34m\"All arrays must be of the same length\"\u001b[0m\u001b[1;33m)\u001b[0m\u001b[1;33m\u001b[0m\u001b[1;33m\u001b[0m\u001b[0m\n\u001b[0m\u001b[0;32m    675\u001b[0m \u001b[1;33m\u001b[0m\u001b[0m\n\u001b[0;32m    676\u001b[0m             \u001b[1;32mif\u001b[0m \u001b[0mhave_dicts\u001b[0m\u001b[1;33m:\u001b[0m\u001b[1;33m\u001b[0m\u001b[1;33m\u001b[0m\u001b[0m\n",
      "\u001b[1;31mValueError\u001b[0m: All arrays must be of the same length"
     ]
    }
   ],
   "source": [
    "data = {\n",
    "    'Name': name,\n",
    "    'Regular Price': regular_price,\n",
    "    'Sale Price': sale_price,\n",
    "    'Rating': rating,\n",
    "    'Reviews': reviews,\n",
    "    'Size': size,\n",
    "    'Description': description,\n",
    "    'Category': category,\n",
    "    'Details': details_list\n",
    "}\n",
    "\n",
    "# # Add the details dictionary to the data dictionary\n",
    "# data['Details'] = details_list\n",
    "# # data['Taste'] = taste_list\n",
    "\n",
    "# Create a dataframe from the data dictionary\n",
    "df = pd.DataFrame(data)\n",
    "\n",
    "# details_df = pd.json_normalize(df['Details'])\n",
    "# # taste_df = pd.json_normalize(df['Taste'])\n",
    "\n",
    "# df = pd.concat([df, details_df], axis = 1)\n",
    "# # df2 = pd.concat([df1, taste_df], axis = 1)\n",
    "\n",
    "# df.drop('Details', axis = 1, inplace = True)\n",
    "# # df2.drop('Taste', axis = 1, inplace = True)\n",
    "\n",
    "# # Display the dataframe Test\n",
    "# df.head(20)"
   ]
  },
  {
   "cell_type": "code",
   "execution_count": null,
   "id": "d499555b",
   "metadata": {},
   "outputs": [],
   "source": []
  },
  {
   "cell_type": "code",
   "execution_count": null,
   "id": "6772e712",
   "metadata": {},
   "outputs": [],
   "source": []
  }
 ],
 "metadata": {
  "kernelspec": {
   "display_name": "Python 3 (ipykernel)",
   "language": "python",
   "name": "python3"
  },
  "language_info": {
   "codemirror_mode": {
    "name": "ipython",
    "version": 3
   },
   "file_extension": ".py",
   "mimetype": "text/x-python",
   "name": "python",
   "nbconvert_exporter": "python",
   "pygments_lexer": "ipython3",
   "version": "3.9.13"
  }
 },
 "nbformat": 4,
 "nbformat_minor": 5
}
