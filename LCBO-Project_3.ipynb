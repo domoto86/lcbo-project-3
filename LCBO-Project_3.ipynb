{
 "cells": [
  {
   "cell_type": "code",
   "execution_count": 1,
   "id": "8bf9afea",
   "metadata": {},
   "outputs": [],
   "source": [
    "from splinter import Browser\n",
    "from bs4 import BeautifulSoup\n",
    "import time\n",
    "from pprint import pprint\n",
    "import pandas as pd\n",
    "\n",
    "browser = Browser('chrome')"
   ]
  },
  {
   "cell_type": "code",
   "execution_count": 2,
   "id": "8ea4667a",
   "metadata": {},
   "outputs": [],
   "source": [
    "\n",
    "# Load the web page\n",
    "url = \"https://www.lcbo.com/en/products#t=clp-products&sort=relevancy&layout=card&f:@lcbo_current_offer=[On%20Sale]\"\n",
    "browser.visit(url)\n",
    "\n",
    "html = browser.html\n",
    "soup=BeautifulSoup(html, 'html.parser')"
   ]
  },
  {
   "cell_type": "code",
   "execution_count": 3,
   "id": "bf7dfe82",
   "metadata": {},
   "outputs": [],
   "source": [
    "# To select \"English\" as preffered language\n",
    "time.sleep(3)\n",
    "results = browser.links.find_by_text('English')\n",
    "results.click()\n",
    "time.sleep(3)\n"
   ]
  },
  {
   "cell_type": "code",
   "execution_count": 4,
   "id": "92375b0d",
   "metadata": {},
   "outputs": [],
   "source": [
    "cookie = browser.find_by_id('btn-cookie-allow').click()\n",
    "# cookie.click()"
   ]
  },
  {
   "cell_type": "code",
   "execution_count": 5,
   "id": "630879b9",
   "metadata": {},
   "outputs": [
    {
     "name": "stdout",
     "output_type": "stream",
     "text": [
      "Iteration #: 1\n",
      "Iteration #: 2\n"
     ]
    }
   ],
   "source": [
    "# This is for loading more products \n",
    "max_iteration = 1\n",
    "iteration = 0\n",
    "\n",
    "while iteration<= max_iteration:\n",
    "    # Extract the HTML of the current page\n",
    "    html = browser.html\n",
    "    \n",
    "    # Create a BeautifulSoup object\n",
    "    soup = BeautifulSoup(html, 'html.parser')\n",
    "    \n",
    "    all_links = soup.find_all(\"div\", class_ = 'coveo-product-items')\n",
    "\n",
    "    links = []\n",
    "    \n",
    "    for link in all_links:\n",
    "        results = link.a['href']\n",
    "        links.append(results)\n",
    "        \n",
    "    # Find the element by ID\n",
    "    element = soup.find(id='loadMore')\n",
    "    \n",
    "    if element is None:\n",
    "        # Element not found, exit the loop\n",
    "        break\n",
    "        \n",
    "    # Wait for 2 seconds\n",
    "    time.sleep(1)\n",
    "    \n",
    "    \n",
    "        \n",
    "    # Click on the element\n",
    "    browser.find_by_id('loadMore').click()\n",
    "    \n",
    "    \n",
    "    \n",
    "    iteration += 1\n",
    "    \n",
    "    print(f'Iteration #: {iteration}')\n",
    "    \n"
   ]
  },
  {
   "cell_type": "code",
   "execution_count": 6,
   "id": "dd7f6c55",
   "metadata": {},
   "outputs": [
    {
     "data": {
      "text/plain": [
       "48"
      ]
     },
     "execution_count": 6,
     "metadata": {},
     "output_type": "execute_result"
    }
   ],
   "source": [
    "len(links)"
   ]
  },
  {
   "cell_type": "code",
   "execution_count": 7,
   "id": "dab256df",
   "metadata": {
    "scrolled": true
   },
   "outputs": [],
   "source": [
    "regular_price = []\n",
    "sale_price = []\n",
    "name = []\n",
    "rating = []\n",
    "onsale = [] #this is the On Sale tag\n",
    "reviews = []\n",
    "size = []\n",
    "description = []\n",
    "category = []\n",
    "details_list = []\n",
    "\n",
    "max_iteration2 = 4\n",
    "iteration2 = 0\n",
    "\n",
    "\n",
    "for record in links:\n",
    "    if iteration2 <= max_iteration2:\n",
    "        break\n",
    "    url = record\n",
    "    browser.visit(url)\n",
    "    html = browser.html\n",
    "    soup = BeautifulSoup(html, 'html.parser')\n",
    "    time.sleep(1)\n",
    "    browser.find_by_css('my_store_close_button').click()\n",
    "    \n",
    "\n",
    "    old_price = soup.find('span', class_ = 'old-price')\n",
    "    old = old_price.find('span', class_ = 'price')\n",
    "    regular_price.append(old.find('span', class_ = 'price').text)\n",
    "\n",
    "    on_sale_price = soup.find('span', class_ = 'special-price')\n",
    "    new_price = on_sale_price.find('span', class_ = 'price')\n",
    "    sale_price.append(new_price.find('span', class_ = 'price').text)\n",
    "\n",
    "    name.append(soup.find('div', class_ = 'page-title-wrapper').text)\n",
    "    try:\n",
    "        onsale.append(soup.find('div', class_ = 'amlabel-text').text)\n",
    "    except AttributeError:\n",
    "        rating.append('N/A')\n",
    "    try:\n",
    "        rating.append(soup.find('div', class_ = 'bv_avgRating_component_container notranslate').text)\n",
    "    except AttributeError:\n",
    "        rating.append('N/A')\n",
    "    reviews.append(soup.find('div', class_ = 'bv_numReviews_text').text)\n",
    "    size.append(soup.find('div', class_ = 'lcbo-product-size').text)\n",
    "    description.append(soup.find('div', class_ = 'testing_note').text)\n",
    "\n",
    "    categories_all = soup.find('div', class_ = 'breadcrumbs')\n",
    "    categories = categories_all.find_all('li', class_ = 'item')\n",
    "    category_list = []\n",
    "\n",
    "    for category_record in categories:\n",
    "        category_list.append(category_record.text)\n",
    "    category.append(category_list[-2])\n",
    "\n",
    "    moredetail = soup.find('div', class_ = 'moredetail')\n",
    "    all_details = moredetail.find_all('li')\n",
    "    details = {}\n",
    "\n",
    "    for detail_record in all_details:\n",
    "        details_value = detail_record.find('div', class_ = 'value').text\n",
    "        details_name = detail_record.find('div', class_ = 'label').text\n",
    "        details[details_name] = details_value\n",
    "\n",
    "    details_list.append(details)\n",
    "\n",
    "    print(iteration2)\n",
    "    iteration2 += 1\n",
    "\n"
   ]
  },
  {
   "cell_type": "code",
   "execution_count": 8,
   "id": "e5c9707f",
   "metadata": {},
   "outputs": [
    {
     "name": "stdout",
     "output_type": "stream",
     "text": [
      " Home \n"
     ]
    }
   ],
   "source": [
    "categories_all = soup.find('div', class_ = 'breadcrumbs')\n",
    "categories = categories_all.find_all('li', class_ = 'item')\n",
    "category_list = []\n",
    "for category_record in categories:\n",
    "    category_list.append(category_record.text)\n",
    "category = category_list[-2]\n",
    "        \n",
    "print(category)"
   ]
  },
  {
   "cell_type": "code",
   "execution_count": 9,
   "id": "93d2f5df",
   "metadata": {},
   "outputs": [],
   "source": [
    "# old_price = soup.find('span', class_ = 'old-price')\n",
    "# old = old_price.find('span', class_ = 'price')\n",
    "# regular_price = old.find('span', class_ = 'price').text\n",
    "\n",
    "# sale_price = soup.find('span', class_ = 'special-price')\n",
    "# new_price = sale_price.find('span', class_ = 'price')\n",
    "# onsale = new_price.find('span', class_ = 'price').text\n",
    "\n",
    "# name = soup.find('div', class_ = 'page-title-wrapper').text\n",
    "# onsale = soup.find('div', class_ = 'amlabel-text').text\n",
    "# rating = soup.find('div', class_ = 'bv_avgRating_component_container notranslate').text\n",
    "# reviews = soup.find('div', class_ = 'bv_numReviews_text').text\n",
    "# size = soup.find('div', class_ = 'lcbo-product-size').text\n",
    "# description = soup.find('div', class_ = 'testing_note').text\n",
    "\n",
    "# categories_all = soup.find('div', class_ = 'breadcrumbs')\n",
    "# categories = categories_all.find_all('li', class_ = 'item')\n",
    "# category_list = []\n",
    "# for record in categories:\n",
    "#     category_list.append(record.text)\n",
    "# category = category_list[-2]\n",
    "\n",
    "# moredetail = soup.find('div', class_ = 'moredetail')\n",
    "# all_details = moredetail.find_all('li')\n",
    "# len_details = len(all_details)\n",
    "# details = {}\n",
    "\n",
    "# for record in all_details:\n",
    "#     details_value = record.find('div', class_ = 'value').text\n",
    "#     details_name = record.find('div', class_ = 'label').text\n",
    "#     details[details_name] = details_value"
   ]
  },
  {
   "cell_type": "code",
   "execution_count": 10,
   "id": "930de2b3",
   "metadata": {},
   "outputs": [
    {
     "data": {
      "text/html": [
       "<div>\n",
       "<style scoped>\n",
       "    .dataframe tbody tr th:only-of-type {\n",
       "        vertical-align: middle;\n",
       "    }\n",
       "\n",
       "    .dataframe tbody tr th {\n",
       "        vertical-align: top;\n",
       "    }\n",
       "\n",
       "    .dataframe thead th {\n",
       "        text-align: right;\n",
       "    }\n",
       "</style>\n",
       "<table border=\"1\" class=\"dataframe\">\n",
       "  <thead>\n",
       "    <tr style=\"text-align: right;\">\n",
       "      <th></th>\n",
       "      <th>Name</th>\n",
       "      <th>Regular Price</th>\n",
       "      <th>Sale Price</th>\n",
       "      <th>Rating</th>\n",
       "      <th>Reviews</th>\n",
       "      <th>Size</th>\n",
       "      <th>Description</th>\n",
       "      <th>Category</th>\n",
       "    </tr>\n",
       "  </thead>\n",
       "  <tbody>\n",
       "  </tbody>\n",
       "</table>\n",
       "</div>"
      ],
      "text/plain": [
       "Empty DataFrame\n",
       "Columns: [Name, Regular Price, Sale Price, Rating, Reviews, Size, Description, Category]\n",
       "Index: []"
      ]
     },
     "execution_count": 10,
     "metadata": {},
     "output_type": "execute_result"
    }
   ],
   "source": [
    "data = {\n",
    "    'Name': name,\n",
    "    'Regular Price': regular_price,\n",
    "    'Sale Price': sale_price,\n",
    "    'Rating': rating,\n",
    "    'Reviews': reviews,\n",
    "    'Size': size,\n",
    "    'Description': description,\n",
    "    'Category': category\n",
    "}\n",
    "\n",
    "# regular_price = [] ok\n",
    "# sale_price = [] ok\n",
    "# name = [] ok\n",
    "# rating = [] ok\n",
    "# reviews = [] ok\n",
    "# size = [] ok\n",
    "# description = [] ok\n",
    "# category = [] ok \n",
    "\n",
    "# details = {}\n",
    "# Add the details dictionary to the data dictionary\n",
    "data['Details'] = details_list\n",
    "\n",
    "# Create a dataframe from the data dictionary\n",
    "df = pd.DataFrame(data)\n",
    "\n",
    "details_df = pd.json_normalize(df['Details'])\n",
    "\n",
    "df = pd.concat([df, details_df], axis = 1)\n",
    "\n",
    "df.drop('Details', axis = 1, inplace = True)\n",
    "\n",
    "# Display the dataframe Test\n",
    "df.head(20)"
   ]
  },
  {
   "cell_type": "code",
   "execution_count": 11,
   "id": "56221dc6",
   "metadata": {},
   "outputs": [
    {
     "data": {
      "text/plain": [
       "[' Home ', ' Products ']"
      ]
     },
     "execution_count": 11,
     "metadata": {},
     "output_type": "execute_result"
    }
   ],
   "source": [
    "category_list"
   ]
  },
  {
   "cell_type": "code",
   "execution_count": 12,
   "id": "082bf81c",
   "metadata": {},
   "outputs": [],
   "source": [
    "categories_all = soup.find('div', class_ = 'breadcrumbs')\n",
    "categories = categories_all.find_all('li', class_ = 'item')\n",
    "\n",
    "category_list1 = []\n",
    "    \n",
    "for category_record in categories:\n",
    "        category_list1.append(category_record.text)\n",
    "        category_list1"
   ]
  },
  {
   "cell_type": "code",
   "execution_count": null,
   "id": "04c9d49c",
   "metadata": {},
   "outputs": [],
   "source": []
  }
 ],
 "metadata": {
  "kernelspec": {
   "display_name": "Python 3 (ipykernel)",
   "language": "python",
   "name": "python3"
  },
  "language_info": {
   "codemirror_mode": {
    "name": "ipython",
    "version": 3
   },
   "file_extension": ".py",
   "mimetype": "text/x-python",
   "name": "python",
   "nbconvert_exporter": "python",
   "pygments_lexer": "ipython3",
   "version": "3.10.9"
  }
 },
 "nbformat": 4,
 "nbformat_minor": 5
}
