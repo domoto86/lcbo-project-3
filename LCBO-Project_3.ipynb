{
 "cells": [
  {
   "cell_type": "code",
   "execution_count": 1,
   "id": "5ae82b5a",
   "metadata": {},
   "outputs": [],
   "source": [
    "from splinter import Browser\n",
    "from bs4 import BeautifulSoup\n",
    "import time\n",
    "from pprint import pprint\n",
    "\n",
    "browser = Browser('chrome')"
   ]
  },
  {
   "cell_type": "code",
   "execution_count": 2,
   "id": "8ea4667a",
   "metadata": {},
   "outputs": [],
   "source": [
    "\n",
    "# Load the web page\n",
    "url = \"https://www.lcbo.com/en/products#t=clp-products&sort=relevancy&layout=card\"\n",
    "browser.visit(url)\n",
    "\n",
    "html = browser.html\n",
    "soup=BeautifulSoup(html, 'html.parser')"
   ]
  },
  {
   "cell_type": "code",
   "execution_count": 3,
   "id": "c7b1c8c2",
   "metadata": {},
   "outputs": [],
   "source": [
    "# To select \"English\" as preffered language\n",
    "results = browser.links.find_by_text('English')\n",
    "results.click()"
   ]
  },
  {
   "cell_type": "code",
   "execution_count": 4,
   "id": "a215cc00",
   "metadata": {},
   "outputs": [],
   "source": [
    "# This is for loading more products \n",
    "max_iteration = 1\n",
    "iteration = 0\n",
    "\n",
    "while iteration<= max_iteration:\n",
    "    # Extract the HTML of the current page\n",
    "    html = browser.html\n",
    "    \n",
    "    # Create a BeautifulSoup object\n",
    "    soup = BeautifulSoup(html, 'html.parser')\n",
    "    \n",
    "    all_links = soup.find_all(\"div\", class_ = 'coveo-product-items')\n",
    "\n",
    "    links = []\n",
    "    \n",
    "    for link in all_links:\n",
    "        results = link.a['href']\n",
    "        links.append(results)\n",
    "        \n",
    "    # Find the element by ID\n",
    "    element = soup.find(id='loadMore')\n",
    "    \n",
    "    if element is None:\n",
    "        # Element not found, exit the loop\n",
    "        break\n",
    "        \n",
    "    # Wait for 2 seconds\n",
    "    time.sleep(1)\n",
    "    \n",
    "    \n",
    "        \n",
    "    # Click on the element\n",
    "    browser.find_by_id('loadMore').click()\n",
    "    \n",
    "    \n",
    "    \n",
    "    iteration += 1\n",
    "    \n",
    "browser.quit()"
   ]
  },
  {
   "cell_type": "code",
   "execution_count": 5,
   "id": "4210577d",
   "metadata": {},
   "outputs": [
    {
     "data": {
      "text/plain": [
       "48"
      ]
     },
     "execution_count": 5,
     "metadata": {},
     "output_type": "execute_result"
    }
   ],
   "source": [
    "len(links)"
   ]
  },
  {
   "cell_type": "code",
   "execution_count": 6,
   "id": "85306ad1",
   "metadata": {},
   "outputs": [],
   "source": [
    "browser = Browser('chrome')\n",
    "\n",
    "\n",
    "for record in links:\n",
    "    url = record\n",
    "    browser.visit(url)\n",
    "    html = browser.html\n",
    "    soup=BeautifulSoup(html, 'html.parser')\n",
    "    results = browser.links.find_by_text('English')\n",
    "    results.click()\n",
    "    break\n",
    "    "
   ]
  },
  {
   "cell_type": "code",
   "execution_count": 29,
   "id": "f0a96e48",
   "metadata": {},
   "outputs": [
    {
     "name": "stdout",
     "output_type": "stream",
     "text": [
      "  750 ml bottle \n"
     ]
    }
   ],
   "source": [
    "name = soup.find('div', class_ = 'page-title-wrapper').text\n",
    "onsale = soup.find('div', class_ = 'amlabel-text').text\n",
    "rating = soup.find('div', class_ = 'bv_avgRating_component_container notranslate').text\n",
    "reviews = soup.find('div', class_ = 'bv_numReviews_text').text\n",
    "size = soup.find('div', class_ = 'lcbo-product-size').text\n"
   ]
  },
  {
   "cell_type": "code",
   "execution_count": 27,
   "id": "66c76b72",
   "metadata": {},
   "outputs": [
    {
     "name": "stdout",
     "output_type": "stream",
     "text": [
      "$18.00\n"
     ]
    }
   ],
   "source": [
    "old_price = soup.find('span', class_ = 'old-price')\n",
    "old = old_price.find('span', class_ = 'price')\n",
    "regular_price = old.find('span', class_ = 'price').text\n",
    "\n",
    "sale_price = soup.find('span', class_ = 'special-price')\n",
    "new_price = sale_price.find('span', class_ = 'price')\n",
    "onsale = new_price.find('span', class_ = 'price').text\n",
    "print(onsale)"
   ]
  },
  {
   "cell_type": "code",
   "execution_count": null,
   "id": "36ba69c6",
   "metadata": {},
   "outputs": [],
   "source": []
  }
 ],
 "metadata": {
  "kernelspec": {
   "display_name": "Python 3 (ipykernel)",
   "language": "python",
   "name": "python3"
  },
  "language_info": {
   "codemirror_mode": {
    "name": "ipython",
    "version": 3
   },
   "file_extension": ".py",
   "mimetype": "text/x-python",
   "name": "python",
   "nbconvert_exporter": "python",
   "pygments_lexer": "ipython3",
   "version": "3.9.13"
  }
 },
 "nbformat": 4,
 "nbformat_minor": 5
}
