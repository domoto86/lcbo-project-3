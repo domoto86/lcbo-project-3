{
 "cells": [
  {
   "cell_type": "code",
   "execution_count": 1,
   "id": "8bf9afea",
   "metadata": {},
   "outputs": [],
   "source": [
    "from splinter import Browser\n",
    "from bs4 import BeautifulSoup\n",
    "import time\n",
    "from pprint import pprint\n",
    "import pandas as pd\n",
    "\n",
    "browser = Browser('chrome')"
   ]
  },
  {
   "cell_type": "code",
   "execution_count": 2,
   "id": "8ea4667a",
   "metadata": {},
   "outputs": [],
   "source": [
    "\n",
    "# Load the web page\n",
    "url = \"https://www.lcbo.com/en/products#t=clp-products&sort=relevancy&layout=card&f:@lcbo_current_offer=[On%20Sale]\"\n",
    "browser.visit(url)\n",
    "\n",
    "html = browser.html\n",
    "soup=BeautifulSoup(html, 'html.parser')"
   ]
  },
  {
   "cell_type": "code",
   "execution_count": 3,
   "id": "bf7dfe82",
   "metadata": {},
   "outputs": [],
   "source": [
    "# To select \"English\" as preffered language\n",
    "results = browser.links.find_by_text('English')\n",
    "results.click()"
   ]
  },
  {
   "cell_type": "code",
   "execution_count": 4,
   "id": "630879b9",
   "metadata": {},
   "outputs": [
    {
     "name": "stdout",
     "output_type": "stream",
     "text": [
      "Iteration #: 1\n",
      "Iteration #: 2\n"
     ]
    }
   ],
   "source": [
    "# This is for loading more products \n",
    "max_iteration = 1\n",
    "iteration = 0\n",
    "\n",
    "while iteration<= max_iteration:\n",
    "    # Extract the HTML of the current page\n",
    "    html = browser.html\n",
    "    \n",
    "    # Create a BeautifulSoup object\n",
    "    soup = BeautifulSoup(html, 'html.parser')\n",
    "    \n",
    "    all_links = soup.find_all(\"div\", class_ = 'coveo-product-items')\n",
    "\n",
    "    links = []\n",
    "    \n",
    "    for link in all_links:\n",
    "        results = link.a['href']\n",
    "        links.append(results)\n",
    "        \n",
    "    # Find the element by ID\n",
    "    element = soup.find(id='loadMore')\n",
    "    \n",
    "    if element is None:\n",
    "        # Element not found, exit the loop\n",
    "        break\n",
    "        \n",
    "    # Wait for 2 seconds\n",
    "    time.sleep(1)\n",
    "    \n",
    "    \n",
    "        \n",
    "    # Click on the element\n",
    "    browser.find_by_id('loadMore').click()\n",
    "    \n",
    "    \n",
    "    \n",
    "    iteration += 1\n",
    "    \n",
    "    print(f'Iteration #: {iteration}')\n",
    "    \n"
   ]
  },
  {
   "cell_type": "code",
   "execution_count": 5,
   "id": "dd7f6c55",
   "metadata": {},
   "outputs": [
    {
     "data": {
      "text/plain": [
       "48"
      ]
     },
     "execution_count": 5,
     "metadata": {},
     "output_type": "execute_result"
    }
   ],
   "source": [
    "len(links)"
   ]
  },
  {
   "cell_type": "code",
   "execution_count": 6,
   "id": "dab256df",
   "metadata": {},
   "outputs": [
    {
     "ename": "ElementNotInteractableException",
     "evalue": "Message: element not interactable\n  (Session info: chrome=114.0.5735.110)\nStacktrace:\nBacktrace:\n\tGetHandleVerifier [0x00C1A813+48355]\n\t(No symbol) [0x00BAC4B1]\n\t(No symbol) [0x00AB5220]\n\t(No symbol) [0x00AE1846]\n\t(No symbol) [0x00AD9F5C]\n\t(No symbol) [0x00AFA73C]\n\t(No symbol) [0x00AD9A36]\n\t(No symbol) [0x00AFAA94]\n\t(No symbol) [0x00B0C922]\n\t(No symbol) [0x00AFA536]\n\t(No symbol) [0x00AD82DC]\n\t(No symbol) [0x00AD93DD]\n\tGetHandleVerifier [0x00E7AABD+2539405]\n\tGetHandleVerifier [0x00EBA78F+2800735]\n\tGetHandleVerifier [0x00EB456C+2775612]\n\tGetHandleVerifier [0x00CA51E0+616112]\n\t(No symbol) [0x00BB5F8C]\n\t(No symbol) [0x00BB2328]\n\t(No symbol) [0x00BB240B]\n\t(No symbol) [0x00BA4FF7]\n\tBaseThreadInitThunk [0x752A7D59+25]\n\tRtlInitializeExceptionChain [0x7711B74B+107]\n\tRtlClearBits [0x7711B6CF+191]\n",
     "output_type": "error",
     "traceback": [
      "\u001b[1;31m---------------------------------------------------------------------------\u001b[0m",
      "\u001b[1;31mElementNotInteractableException\u001b[0m           Traceback (most recent call last)",
      "\u001b[1;32m~\\AppData\\Local\\Temp\\ipykernel_26552\\31824402.py\u001b[0m in \u001b[0;36m<module>\u001b[1;34m\u001b[0m\n\u001b[0;32m     23\u001b[0m     \u001b[0msoup\u001b[0m \u001b[1;33m=\u001b[0m \u001b[0mBeautifulSoup\u001b[0m\u001b[1;33m(\u001b[0m\u001b[0mhtml\u001b[0m\u001b[1;33m,\u001b[0m \u001b[1;34m'html.parser'\u001b[0m\u001b[1;33m)\u001b[0m\u001b[1;33m\u001b[0m\u001b[1;33m\u001b[0m\u001b[0m\n\u001b[0;32m     24\u001b[0m     \u001b[0mresults\u001b[0m \u001b[1;33m=\u001b[0m \u001b[0mbrowser\u001b[0m\u001b[1;33m.\u001b[0m\u001b[0mlinks\u001b[0m\u001b[1;33m.\u001b[0m\u001b[0mfind_by_text\u001b[0m\u001b[1;33m(\u001b[0m\u001b[1;34m'English'\u001b[0m\u001b[1;33m)\u001b[0m\u001b[1;33m\u001b[0m\u001b[1;33m\u001b[0m\u001b[0m\n\u001b[1;32m---> 25\u001b[1;33m     \u001b[0mresults\u001b[0m\u001b[1;33m.\u001b[0m\u001b[0mclick\u001b[0m\u001b[1;33m(\u001b[0m\u001b[1;33m)\u001b[0m\u001b[1;33m\u001b[0m\u001b[1;33m\u001b[0m\u001b[0m\n\u001b[0m\u001b[0;32m     26\u001b[0m \u001b[1;33m\u001b[0m\u001b[0m\n\u001b[0;32m     27\u001b[0m     \u001b[0mold_price\u001b[0m \u001b[1;33m=\u001b[0m \u001b[0msoup\u001b[0m\u001b[1;33m.\u001b[0m\u001b[0mfind\u001b[0m\u001b[1;33m(\u001b[0m\u001b[1;34m'span'\u001b[0m\u001b[1;33m,\u001b[0m \u001b[0mclass_\u001b[0m \u001b[1;33m=\u001b[0m \u001b[1;34m'old-price'\u001b[0m\u001b[1;33m)\u001b[0m\u001b[1;33m\u001b[0m\u001b[1;33m\u001b[0m\u001b[0m\n",
      "\u001b[1;32m~\\anaconda3\\lib\\site-packages\\splinter\\driver\\webdriver\\__init__.py\u001b[0m in \u001b[0;36mclick\u001b[1;34m(self)\u001b[0m\n\u001b[0;32m    826\u001b[0m                 \u001b[0merror\u001b[0m \u001b[1;33m=\u001b[0m \u001b[0me\u001b[0m\u001b[1;33m\u001b[0m\u001b[1;33m\u001b[0m\u001b[0m\n\u001b[0;32m    827\u001b[0m \u001b[1;33m\u001b[0m\u001b[0m\n\u001b[1;32m--> 828\u001b[1;33m         \u001b[1;32mraise\u001b[0m \u001b[0merror\u001b[0m\u001b[1;33m\u001b[0m\u001b[1;33m\u001b[0m\u001b[0m\n\u001b[0m\u001b[0;32m    829\u001b[0m \u001b[1;33m\u001b[0m\u001b[0m\n\u001b[0;32m    830\u001b[0m     \u001b[1;32mdef\u001b[0m \u001b[0mcheck\u001b[0m\u001b[1;33m(\u001b[0m\u001b[0mself\u001b[0m\u001b[1;33m)\u001b[0m\u001b[1;33m:\u001b[0m\u001b[1;33m\u001b[0m\u001b[1;33m\u001b[0m\u001b[0m\n",
      "\u001b[1;32m~\\anaconda3\\lib\\site-packages\\splinter\\driver\\webdriver\\__init__.py\u001b[0m in \u001b[0;36mclick\u001b[1;34m(self)\u001b[0m\n\u001b[0;32m    819\u001b[0m         \u001b[1;32mwhile\u001b[0m \u001b[0mtime\u001b[0m\u001b[1;33m.\u001b[0m\u001b[0mtime\u001b[0m\u001b[1;33m(\u001b[0m\u001b[1;33m)\u001b[0m \u001b[1;33m<\u001b[0m \u001b[0mend_time\u001b[0m\u001b[1;33m:\u001b[0m\u001b[1;33m\u001b[0m\u001b[1;33m\u001b[0m\u001b[0m\n\u001b[0;32m    820\u001b[0m             \u001b[1;32mtry\u001b[0m\u001b[1;33m:\u001b[0m\u001b[1;33m\u001b[0m\u001b[1;33m\u001b[0m\u001b[0m\n\u001b[1;32m--> 821\u001b[1;33m                 \u001b[1;32mreturn\u001b[0m \u001b[0mself\u001b[0m\u001b[1;33m.\u001b[0m\u001b[0m_element\u001b[0m\u001b[1;33m.\u001b[0m\u001b[0mclick\u001b[0m\u001b[1;33m(\u001b[0m\u001b[1;33m)\u001b[0m\u001b[1;33m\u001b[0m\u001b[1;33m\u001b[0m\u001b[0m\n\u001b[0m\u001b[0;32m    822\u001b[0m             except (\n\u001b[0;32m    823\u001b[0m                 \u001b[0mElementClickInterceptedException\u001b[0m\u001b[1;33m,\u001b[0m\u001b[1;33m\u001b[0m\u001b[1;33m\u001b[0m\u001b[0m\n",
      "\u001b[1;32m~\\anaconda3\\lib\\site-packages\\selenium\\webdriver\\remote\\webelement.py\u001b[0m in \u001b[0;36mclick\u001b[1;34m(self)\u001b[0m\n\u001b[0;32m     79\u001b[0m     \u001b[1;32mdef\u001b[0m \u001b[0mclick\u001b[0m\u001b[1;33m(\u001b[0m\u001b[0mself\u001b[0m\u001b[1;33m)\u001b[0m \u001b[1;33m->\u001b[0m \u001b[1;32mNone\u001b[0m\u001b[1;33m:\u001b[0m\u001b[1;33m\u001b[0m\u001b[1;33m\u001b[0m\u001b[0m\n\u001b[0;32m     80\u001b[0m         \u001b[1;34m\"\"\"Clicks the element.\"\"\"\u001b[0m\u001b[1;33m\u001b[0m\u001b[1;33m\u001b[0m\u001b[0m\n\u001b[1;32m---> 81\u001b[1;33m         \u001b[0mself\u001b[0m\u001b[1;33m.\u001b[0m\u001b[0m_execute\u001b[0m\u001b[1;33m(\u001b[0m\u001b[0mCommand\u001b[0m\u001b[1;33m.\u001b[0m\u001b[0mCLICK_ELEMENT\u001b[0m\u001b[1;33m)\u001b[0m\u001b[1;33m\u001b[0m\u001b[1;33m\u001b[0m\u001b[0m\n\u001b[0m\u001b[0;32m     82\u001b[0m \u001b[1;33m\u001b[0m\u001b[0m\n\u001b[0;32m     83\u001b[0m     \u001b[1;32mdef\u001b[0m \u001b[0msubmit\u001b[0m\u001b[1;33m(\u001b[0m\u001b[0mself\u001b[0m\u001b[1;33m)\u001b[0m\u001b[1;33m:\u001b[0m\u001b[1;33m\u001b[0m\u001b[1;33m\u001b[0m\u001b[0m\n",
      "\u001b[1;32m~\\anaconda3\\lib\\site-packages\\selenium\\webdriver\\remote\\webelement.py\u001b[0m in \u001b[0;36m_execute\u001b[1;34m(self, command, params)\u001b[0m\n\u001b[0;32m    738\u001b[0m             \u001b[0mparams\u001b[0m \u001b[1;33m=\u001b[0m \u001b[1;33m{\u001b[0m\u001b[1;33m}\u001b[0m\u001b[1;33m\u001b[0m\u001b[1;33m\u001b[0m\u001b[0m\n\u001b[0;32m    739\u001b[0m         \u001b[0mparams\u001b[0m\u001b[1;33m[\u001b[0m\u001b[1;34m'id'\u001b[0m\u001b[1;33m]\u001b[0m \u001b[1;33m=\u001b[0m \u001b[0mself\u001b[0m\u001b[1;33m.\u001b[0m\u001b[0m_id\u001b[0m\u001b[1;33m\u001b[0m\u001b[1;33m\u001b[0m\u001b[0m\n\u001b[1;32m--> 740\u001b[1;33m         \u001b[1;32mreturn\u001b[0m \u001b[0mself\u001b[0m\u001b[1;33m.\u001b[0m\u001b[0m_parent\u001b[0m\u001b[1;33m.\u001b[0m\u001b[0mexecute\u001b[0m\u001b[1;33m(\u001b[0m\u001b[0mcommand\u001b[0m\u001b[1;33m,\u001b[0m \u001b[0mparams\u001b[0m\u001b[1;33m)\u001b[0m\u001b[1;33m\u001b[0m\u001b[1;33m\u001b[0m\u001b[0m\n\u001b[0m\u001b[0;32m    741\u001b[0m \u001b[1;33m\u001b[0m\u001b[0m\n\u001b[0;32m    742\u001b[0m     \u001b[1;32mdef\u001b[0m \u001b[0mfind_element\u001b[0m\u001b[1;33m(\u001b[0m\u001b[0mself\u001b[0m\u001b[1;33m,\u001b[0m \u001b[0mby\u001b[0m\u001b[1;33m=\u001b[0m\u001b[0mBy\u001b[0m\u001b[1;33m.\u001b[0m\u001b[0mID\u001b[0m\u001b[1;33m,\u001b[0m \u001b[0mvalue\u001b[0m\u001b[1;33m=\u001b[0m\u001b[1;32mNone\u001b[0m\u001b[1;33m)\u001b[0m\u001b[1;33m:\u001b[0m\u001b[1;33m\u001b[0m\u001b[1;33m\u001b[0m\u001b[0m\n",
      "\u001b[1;32m~\\anaconda3\\lib\\site-packages\\selenium\\webdriver\\remote\\webdriver.py\u001b[0m in \u001b[0;36mexecute\u001b[1;34m(self, driver_command, params)\u001b[0m\n\u001b[0;32m    428\u001b[0m         \u001b[0mresponse\u001b[0m \u001b[1;33m=\u001b[0m \u001b[0mself\u001b[0m\u001b[1;33m.\u001b[0m\u001b[0mcommand_executor\u001b[0m\u001b[1;33m.\u001b[0m\u001b[0mexecute\u001b[0m\u001b[1;33m(\u001b[0m\u001b[0mdriver_command\u001b[0m\u001b[1;33m,\u001b[0m \u001b[0mparams\u001b[0m\u001b[1;33m)\u001b[0m\u001b[1;33m\u001b[0m\u001b[1;33m\u001b[0m\u001b[0m\n\u001b[0;32m    429\u001b[0m         \u001b[1;32mif\u001b[0m \u001b[0mresponse\u001b[0m\u001b[1;33m:\u001b[0m\u001b[1;33m\u001b[0m\u001b[1;33m\u001b[0m\u001b[0m\n\u001b[1;32m--> 430\u001b[1;33m             \u001b[0mself\u001b[0m\u001b[1;33m.\u001b[0m\u001b[0merror_handler\u001b[0m\u001b[1;33m.\u001b[0m\u001b[0mcheck_response\u001b[0m\u001b[1;33m(\u001b[0m\u001b[0mresponse\u001b[0m\u001b[1;33m)\u001b[0m\u001b[1;33m\u001b[0m\u001b[1;33m\u001b[0m\u001b[0m\n\u001b[0m\u001b[0;32m    431\u001b[0m             response['value'] = self._unwrap_value(\n\u001b[0;32m    432\u001b[0m                 response.get('value', None))\n",
      "\u001b[1;32m~\\anaconda3\\lib\\site-packages\\selenium\\webdriver\\remote\\errorhandler.py\u001b[0m in \u001b[0;36mcheck_response\u001b[1;34m(self, response)\u001b[0m\n\u001b[0;32m    245\u001b[0m                 \u001b[0malert_text\u001b[0m \u001b[1;33m=\u001b[0m \u001b[0mvalue\u001b[0m\u001b[1;33m[\u001b[0m\u001b[1;34m'alert'\u001b[0m\u001b[1;33m]\u001b[0m\u001b[1;33m.\u001b[0m\u001b[0mget\u001b[0m\u001b[1;33m(\u001b[0m\u001b[1;34m'text'\u001b[0m\u001b[1;33m)\u001b[0m\u001b[1;33m\u001b[0m\u001b[1;33m\u001b[0m\u001b[0m\n\u001b[0;32m    246\u001b[0m             \u001b[1;32mraise\u001b[0m \u001b[0mexception_class\u001b[0m\u001b[1;33m(\u001b[0m\u001b[0mmessage\u001b[0m\u001b[1;33m,\u001b[0m \u001b[0mscreen\u001b[0m\u001b[1;33m,\u001b[0m \u001b[0mstacktrace\u001b[0m\u001b[1;33m,\u001b[0m \u001b[0malert_text\u001b[0m\u001b[1;33m)\u001b[0m  \u001b[1;31m# type: ignore[call-arg]  # mypy is not smart enough here\u001b[0m\u001b[1;33m\u001b[0m\u001b[1;33m\u001b[0m\u001b[0m\n\u001b[1;32m--> 247\u001b[1;33m         \u001b[1;32mraise\u001b[0m \u001b[0mexception_class\u001b[0m\u001b[1;33m(\u001b[0m\u001b[0mmessage\u001b[0m\u001b[1;33m,\u001b[0m \u001b[0mscreen\u001b[0m\u001b[1;33m,\u001b[0m \u001b[0mstacktrace\u001b[0m\u001b[1;33m)\u001b[0m\u001b[1;33m\u001b[0m\u001b[1;33m\u001b[0m\u001b[0m\n\u001b[0m\u001b[0;32m    248\u001b[0m \u001b[1;33m\u001b[0m\u001b[0m\n\u001b[0;32m    249\u001b[0m     \u001b[1;32mdef\u001b[0m \u001b[0m_value_or_default\u001b[0m\u001b[1;33m(\u001b[0m\u001b[0mself\u001b[0m\u001b[1;33m,\u001b[0m \u001b[0mobj\u001b[0m\u001b[1;33m:\u001b[0m \u001b[0mMapping\u001b[0m\u001b[1;33m[\u001b[0m\u001b[0m_KT\u001b[0m\u001b[1;33m,\u001b[0m \u001b[0m_VT\u001b[0m\u001b[1;33m]\u001b[0m\u001b[1;33m,\u001b[0m \u001b[0mkey\u001b[0m\u001b[1;33m:\u001b[0m \u001b[0m_KT\u001b[0m\u001b[1;33m,\u001b[0m \u001b[0mdefault\u001b[0m\u001b[1;33m:\u001b[0m \u001b[0m_VT\u001b[0m\u001b[1;33m)\u001b[0m \u001b[1;33m->\u001b[0m \u001b[0m_VT\u001b[0m\u001b[1;33m:\u001b[0m\u001b[1;33m\u001b[0m\u001b[1;33m\u001b[0m\u001b[0m\n",
      "\u001b[1;31mElementNotInteractableException\u001b[0m: Message: element not interactable\n  (Session info: chrome=114.0.5735.110)\nStacktrace:\nBacktrace:\n\tGetHandleVerifier [0x00C1A813+48355]\n\t(No symbol) [0x00BAC4B1]\n\t(No symbol) [0x00AB5220]\n\t(No symbol) [0x00AE1846]\n\t(No symbol) [0x00AD9F5C]\n\t(No symbol) [0x00AFA73C]\n\t(No symbol) [0x00AD9A36]\n\t(No symbol) [0x00AFAA94]\n\t(No symbol) [0x00B0C922]\n\t(No symbol) [0x00AFA536]\n\t(No symbol) [0x00AD82DC]\n\t(No symbol) [0x00AD93DD]\n\tGetHandleVerifier [0x00E7AABD+2539405]\n\tGetHandleVerifier [0x00EBA78F+2800735]\n\tGetHandleVerifier [0x00EB456C+2775612]\n\tGetHandleVerifier [0x00CA51E0+616112]\n\t(No symbol) [0x00BB5F8C]\n\t(No symbol) [0x00BB2328]\n\t(No symbol) [0x00BB240B]\n\t(No symbol) [0x00BA4FF7]\n\tBaseThreadInitThunk [0x752A7D59+25]\n\tRtlInitializeExceptionChain [0x7711B74B+107]\n\tRtlClearBits [0x7711B6CF+191]\n"
     ]
    }
   ],
   "source": [
    "regular_price = []\n",
    "sale_price = []\n",
    "name = []\n",
    "rating = []\n",
    "reviews = []\n",
    "size = []\n",
    "description = []\n",
    "category = []\n",
    "name = []\n",
    "onsale = []\n",
    "rating = []\n",
    "reviews = []\n",
    "size = []\n",
    "description = []\n",
    "details = {}\n",
    "\n",
    "for record in links:\n",
    "    url = record\n",
    "    browser.visit(url)\n",
    "    html = browser.html\n",
    "    soup = BeautifulSoup(html, 'html.parser')\n",
    "#     results = browser.links.find_by_text('English')\n",
    "#     results.click()\n",
    "    \n",
    "    old_price = soup.find('span', class_ = 'old-price')\n",
    "    old = old_price.find('span', class_ = 'price')\n",
    "    regular_price.append(old.find('span', class_ = 'price').text)\n",
    "\n",
    "    on_sale_price = soup.find('span', class_ = 'special-price')\n",
    "    new_price = on_sale_price.find('span', class_ = 'price')\n",
    "    sale_price.append(new_price.find('span', class_ = 'price').text)\n",
    "\n",
    "    name.append(soup.find('div', class_ = 'page-title-wrapper').text)\n",
    "    onsale.append(soup.find('div', class_ = 'amlabel-text').text)\n",
    "    rating.append(soup.find('div', class_ = 'bv_avgRating_component_container notranslate').text)\n",
    "    reviews.append(soup.find('div', class_ = 'bv_numReviews_text').text)\n",
    "    size.append(soup.find('div', class_ = 'lcbo-product-size').text)\n",
    "    description.append(soup.find('div', class_ = 'testing_note').text)\n",
    "\n",
    "    categories_all = soup.find('div', class_ = 'breadcrumbs')\n",
    "    categories = categories_all.find_all('li', class_ = 'item')\n",
    "    category_list = []\n",
    "    \n",
    "    for category_record in categories:\n",
    "        category_list.append(category_record.text)\n",
    "    category = category_list[-2]\n",
    "\n",
    "    moredetail = soup.find('div', class_ = 'moredetail')\n",
    "    all_details = moredetail.find_all('li')\n",
    "\n",
    "    for detail_record in all_details:\n",
    "        details_value = detail_record.find('div', class_ = 'value').text\n",
    "        details_name = detail_record.find('div', class_ = 'label').text\n",
    "        details[details_name] = details_value\n",
    "    "
   ]
  },
  {
   "cell_type": "code",
   "execution_count": null,
   "id": "93d2f5df",
   "metadata": {},
   "outputs": [],
   "source": [
    "# old_price = soup.find('span', class_ = 'old-price')\n",
    "# old = old_price.find('span', class_ = 'price')\n",
    "# regular_price = old.find('span', class_ = 'price').text\n",
    "\n",
    "# sale_price = soup.find('span', class_ = 'special-price')\n",
    "# new_price = sale_price.find('span', class_ = 'price')\n",
    "# onsale = new_price.find('span', class_ = 'price').text\n",
    "\n",
    "# name = soup.find('div', class_ = 'page-title-wrapper').text\n",
    "# onsale = soup.find('div', class_ = 'amlabel-text').text\n",
    "# rating = soup.find('div', class_ = 'bv_avgRating_component_container notranslate').text\n",
    "# reviews = soup.find('div', class_ = 'bv_numReviews_text').text\n",
    "# size = soup.find('div', class_ = 'lcbo-product-size').text\n",
    "# description = soup.find('div', class_ = 'testing_note').text\n",
    "\n",
    "# categories_all = soup.find('div', class_ = 'breadcrumbs')\n",
    "# categories = categories_all.find_all('li', class_ = 'item')\n",
    "# category_list = []\n",
    "# for record in categories:\n",
    "#     category_list.append(record.text)\n",
    "# category = category_list[-2]\n",
    "\n",
    "# moredetail = soup.find('div', class_ = 'moredetail')\n",
    "# all_details = moredetail.find_all('li')\n",
    "# len_details = len(all_details)\n",
    "# details = {}\n",
    "\n",
    "# for record in all_details:\n",
    "#     details_value = record.find('div', class_ = 'value').text\n",
    "#     details_name = record.find('div', class_ = 'label').text\n",
    "#     details[details_name] = details_value"
   ]
  },
  {
   "cell_type": "code",
   "execution_count": null,
   "id": "f3ef27c9",
   "metadata": {},
   "outputs": [],
   "source": [
    "data = {\n",
    "    'Name': [name],\n",
    "    'Regular Price': [regular_price],\n",
    "    'Sale Price': [onsale],\n",
    "    'Rating': [rating],\n",
    "    'Reviews': [reviews],\n",
    "    'Size': [size],\n",
    "    'Description': [description],\n",
    "    'Category': [category],\n",
    "}\n",
    "\n",
    "# Add the details dictionary to the data dictionary\n",
    "data.update(details)\n",
    "\n",
    "# Create a dataframe from the data dictionary\n",
    "df = pd.DataFrame(data)\n",
    "\n",
    "# Display the dataframe\n",
    "df.head()"
   ]
  },
  {
   "cell_type": "code",
   "execution_count": null,
   "id": "a14dd5ad",
   "metadata": {},
   "outputs": [],
   "source": []
  }
 ],
 "metadata": {
  "kernelspec": {
   "display_name": "Python 3 (ipykernel)",
   "language": "python",
   "name": "python3"
  },
  "language_info": {
   "codemirror_mode": {
    "name": "ipython",
    "version": 3
   },
   "file_extension": ".py",
   "mimetype": "text/x-python",
   "name": "python",
   "nbconvert_exporter": "python",
   "pygments_lexer": "ipython3",
   "version": "3.9.13"
  }
 },
 "nbformat": 4,
 "nbformat_minor": 5
}
