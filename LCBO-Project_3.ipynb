{
 "cells": [
  {
   "cell_type": "code",
   "execution_count": 1,
   "id": "cd46e75b",
   "metadata": {},
   "outputs": [],
   "source": [
    "from splinter import Browser\n",
    "from bs4 import BeautifulSoup\n",
    "import time\n",
    "from pprint import pprint\n",
    "browser = Browser('chrome')"
   ]
  },
  {
   "cell_type": "code",
   "execution_count": 2,
   "id": "8ea4667a",
   "metadata": {},
   "outputs": [],
   "source": [
    "\n",
    "# Load the web page\n",
    "url = \"https://www.lcbo.com/en/products#t=clp-products&sort=relevancy&layout=card\"\n",
    "browser.visit(url)\n",
    "\n",
    "html = browser.html\n",
    "soup=BeautifulSoup(html, 'html.parser')"
   ]
  },
  {
   "cell_type": "code",
   "execution_count": 3,
   "id": "e922881c",
   "metadata": {},
   "outputs": [],
   "source": [
    "# To select \"English\" as preffered language\n",
    "results = browser.links.find_by_text('English')\n",
    "results.click()"
   ]
  },
  {
   "cell_type": "code",
   "execution_count": 4,
   "id": "a8e467db",
   "metadata": {},
   "outputs": [],
   "source": [
    "# This is for loading more products \n",
    "max_iteration = 1\n",
    "iteration = 0\n",
    "\n",
    "while iteration<= max_iteration:\n",
    "    # Extract the HTML of the current page\n",
    "    html = browser.html\n",
    "    \n",
    "    # Create a BeautifulSoup object\n",
    "    soup = BeautifulSoup(html, 'html.parser')\n",
    "    \n",
    "    all_links = soup.find_all(\"div\", class_ = 'coveo-product-items')\n",
    "\n",
    "    links = []\n",
    "    \n",
    "    for link in all_links:\n",
    "        results = link.a['href']\n",
    "        links.append(results)\n",
    "        \n",
    "    # Find the element by ID\n",
    "    element = soup.find(id='loadMore')\n",
    "    \n",
    "    if element is None:\n",
    "        # Element not found, exit the loop\n",
    "        break\n",
    "        \n",
    "    # Wait for 2 seconds\n",
    "    time.sleep(1)\n",
    "    \n",
    "    \n",
    "        \n",
    "    # Click on the element\n",
    "    browser.find_by_id('loadMore').click()\n",
    "    \n",
    "    \n",
    "    \n",
    "    iteration += 1"
   ]
  },
  {
   "cell_type": "code",
   "execution_count": 5,
   "id": "d1789a80",
   "metadata": {},
   "outputs": [
    {
     "name": "stdout",
     "output_type": "stream",
     "text": [
      "['https://www.lcbo.com/en/collavini-pinot-grigio-33340', 'https://www.lcbo.com/en/topo-chico-hard-seltzer-signature-margarita-31234', 'https://www.lcbo.com/en/josh-cellars-pinot-grigio-15754', 'https://www.lcbo.com/en/ruffino-prosecco-rose-doc-20896', 'https://www.lcbo.com/en/woodbridge-by-robert-mondavi-cabernet-sauvignon-48611', 'https://www.lcbo.com/en/kim-crawford-sauvignon-blanc-35386', 'https://www.lcbo.com/en/tom-gore-cabernet-sauvignon-451336', 'https://www.lcbo.com/en/palm-bay-paradise-twist-24333', 'https://www.lcbo.com/en/nude-pink-lemonade-24369', 'https://www.lcbo.com/en/bartenders-trading-pina-colada-31238', 'https://www.lcbo.com/en/meukow-cognac-vs-382580', 'https://www.lcbo.com/en/aperol-spritz-ready-to-serve-24345', 'https://www.lcbo.com/en/seventh-heaven-classic-london-dry-gin-30719', 'https://www.lcbo.com/en/salvadors-grapefruit-paloma-31239', 'https://www.lcbo.com/en/herradura-reposado-tequila-452615', 'https://www.lcbo.com/en/kim-crawford-ros-c-650325', 'https://www.lcbo.com/en/borsao-tinto-garnacha-386961', 'https://www.lcbo.com/en/old-forester-426148', 'https://www.lcbo.com/en/crown-royal-whisky-217950', 'https://www.lcbo.com/en/villa-puccini-grillo-sicilia-doc-30958', 'https://www.lcbo.com/en/barone-ricasoli-rocca-guicciarda-riserva-chianti-classico-943613', 'https://www.lcbo.com/en/old-style-pilsner-28122', 'https://www.lcbo.com/en/lolea-no-1-red-sangria-spain-408286', 'https://www.lcbo.com/en/bottega-vino-dei-poeti-brut-rose-277202', 'https://www.lcbo.com/en/strongbow-cider-560532', 'https://www.lcbo.com/en/miraval-ros-c-342584', 'https://www.lcbo.com/en/ogier-cotes-du-ventoux-rose-aoc-134916', 'https://www.lcbo.com/en/zonin-prosecco-brut-1821-doc-250480', 'https://www.lcbo.com/en/sogrape-gazela-vinho-verde-141432', 'https://www.lcbo.com/en/monte-zovo-sa-solin-ripasso-valpolicella-650713', 'https://www.lcbo.com/en/palm-bay-rainbow-twist-19146', 'https://www.lcbo.com/en/casal-garcia-vinho-verde-do-530261', 'https://www.lcbo.com/en/founder-s-original-bourbon-sour-19347', 'https://www.lcbo.com/en/the-keg-keg-size-caesar-31481', 'https://www.lcbo.com/en/cazadores-paloma-31281', 'https://www.lcbo.com/en/ruffino-lumina-pinot-grigio-igt-589101', 'https://www.lcbo.com/en/santa-julia-reserva-malbec-429761', 'https://www.lcbo.com/en/ruffino-chianti-1743', 'https://www.lcbo.com/en/canadian-club-ginger-ale-24325', 'https://www.lcbo.com/en/aperol-176834', 'https://www.lcbo.com/en/arizona-hard-lemon-iced-tea-24344', 'https://www.lcbo.com/en/santa-margherita-pinot-grigio-106450', 'https://www.lcbo.com/en/batasiolo-bosc-d-la-rei-moscato-d-asti-docg-277194', 'https://www.lcbo.com/en/pelee-island-best-in-show-pinot-grigio-27729', 'https://www.lcbo.com/en/argento-seleccion-pinot-grigio-620492', 'https://www.lcbo.com/en/il-piatto-mare-pecorino-terre-di-chieti-30962', 'https://www.lcbo.com/en/famille-perrin-r-cserve-c-tes-du-rh-ne-363457', 'https://www.lcbo.com/en/oyster-bay-sauvignon-blanc-316570']\n"
     ]
    }
   ],
   "source": [
    "print(links)"
   ]
  },
  {
   "cell_type": "code",
   "execution_count": null,
   "id": "c2db0467",
   "metadata": {},
   "outputs": [],
   "source": []
  }
 ],
 "metadata": {
  "kernelspec": {
   "display_name": "Python 3 (ipykernel)",
   "language": "python",
   "name": "python3"
  },
  "language_info": {
   "codemirror_mode": {
    "name": "ipython",
    "version": 3
   },
   "file_extension": ".py",
   "mimetype": "text/x-python",
   "name": "python",
   "nbconvert_exporter": "python",
   "pygments_lexer": "ipython3",
   "version": "3.9.13"
  }
 },
 "nbformat": 4,
 "nbformat_minor": 5
}
