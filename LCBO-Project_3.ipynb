{
 "cells": [
  {
   "cell_type": "code",
   "execution_count": 25,
   "id": "8bf9afea",
   "metadata": {},
   "outputs": [],
   "source": [
    "from splinter import Browser\n",
    "from bs4 import BeautifulSoup\n",
    "import time\n",
    "from pprint import pprint\n",
    "\n",
    "browser = Browser('chrome')"
   ]
  },
  {
   "cell_type": "code",
   "execution_count": 26,
   "id": "8ea4667a",
   "metadata": {},
   "outputs": [],
   "source": [
    "\n",
    "# Load the web page\n",
    "url = \"https://www.lcbo.com/en/products#t=clp-products&sort=relevancy&layout=card\"\n",
    "browser.visit(url)\n",
    "\n",
    "html = browser.html\n",
    "soup=BeautifulSoup(html, 'html.parser')"
   ]
  },
  {
   "cell_type": "code",
   "execution_count": 27,
   "id": "bf7dfe82",
   "metadata": {},
   "outputs": [],
   "source": [
    "# To select \"English\" as preffered language\n",
    "results = browser.links.find_by_text('English')\n",
    "results.click()"
   ]
  },
  {
   "cell_type": "code",
   "execution_count": 28,
   "id": "630879b9",
   "metadata": {},
   "outputs": [
    {
     "name": "stdout",
     "output_type": "stream",
     "text": [
      "Iteration #: 1\n",
      "Iteration #: 2\n",
      "Iteration #: 3\n",
      "Iteration #: 4\n",
      "Iteration #: 5\n",
      "Iteration #: 6\n",
      "Iteration #: 7\n",
      "Iteration #: 8\n",
      "Iteration #: 9\n",
      "Iteration #: 10\n",
      "Iteration #: 11\n",
      "Iteration #: 12\n",
      "Iteration #: 13\n",
      "Iteration #: 14\n",
      "Iteration #: 15\n",
      "Iteration #: 16\n",
      "Iteration #: 17\n",
      "Iteration #: 18\n",
      "Iteration #: 19\n",
      "Iteration #: 20\n",
      "Iteration #: 21\n",
      "Iteration #: 22\n",
      "Iteration #: 23\n",
      "Iteration #: 24\n",
      "Iteration #: 25\n",
      "Iteration #: 26\n",
      "Iteration #: 27\n",
      "Iteration #: 28\n",
      "Iteration #: 29\n",
      "Iteration #: 30\n",
      "Iteration #: 31\n",
      "Iteration #: 32\n",
      "Iteration #: 33\n",
      "Iteration #: 34\n",
      "Iteration #: 35\n",
      "Iteration #: 36\n",
      "Iteration #: 37\n",
      "Iteration #: 38\n",
      "Iteration #: 39\n",
      "Iteration #: 40\n",
      "Iteration #: 41\n",
      "Iteration #: 42\n",
      "Iteration #: 43\n",
      "Iteration #: 44\n",
      "Iteration #: 45\n",
      "Iteration #: 46\n",
      "Iteration #: 47\n",
      "Iteration #: 48\n",
      "Iteration #: 49\n",
      "Iteration #: 50\n",
      "Iteration #: 51\n",
      "Iteration #: 52\n",
      "Iteration #: 53\n",
      "Iteration #: 54\n",
      "Iteration #: 55\n",
      "Iteration #: 56\n",
      "Iteration #: 57\n",
      "Iteration #: 58\n",
      "Iteration #: 59\n",
      "Iteration #: 60\n",
      "Iteration #: 61\n",
      "Iteration #: 62\n",
      "Iteration #: 63\n",
      "Iteration #: 64\n"
     ]
    },
    {
     "ename": "WebDriverException",
     "evalue": "Message: disconnected: not connected to DevTools\n  (failed to check if window was closed: disconnected: not connected to DevTools)\n  (Session info: MicrosoftEdge=114.0.1823.41)\nStacktrace:\nBacktrace:\n\tGetHandleVerifier [0x00007FF64643B5A2+64226]\n\tMicrosoft::Applications::Events::EventProperty::~EventProperty [0x00007FF6463CBB62+770994]\n\t(No symbol) [0x00007FF64618CC3C]\n\t(No symbol) [0x00007FF646177FB3]\n\t(No symbol) [0x00007FF646177D70]\n\t(No symbol) [0x00007FF64618E461]\n\t(No symbol) [0x00007FF646207926]\n\t(No symbol) [0x00007FF6461EEDC3]\n\t(No symbol) [0x00007FF6461C3BDC]\n\t(No symbol) [0x00007FF6461C2DC6]\n\t(No symbol) [0x00007FF6461C4354]\n\tMicrosoft::Applications::Events::ILogManager::DispatchEventBroadcast [0x00007FF646618E49+1319081]\n\t(No symbol) [0x00007FF64623BEE8]\n\tMicrosoft::Applications::Events::EventProperty::~EventProperty [0x00007FF646317AC1+33553]\n\tMicrosoft::Applications::Events::EventProperty::~EventProperty [0x00007FF64630FEFF+1871]\n\tMicrosoft::Applications::Events::ILogManager::DispatchEventBroadcast [0x00007FF646617A63+1313987]\n\tMicrosoft::Applications::Events::ILogConfiguration::operator* [0x00007FF6463D4198+20232]\n\tMicrosoft::Applications::Events::ILogConfiguration::operator* [0x00007FF6463D07B4+5412]\n\tMicrosoft::Applications::Events::ILogConfiguration::operator* [0x00007FF6463D08AC+5660]\n\tMicrosoft::Applications::Events::EventProperty::~EventProperty [0x00007FF6463C4561+740785]\n\tBaseThreadInitThunk [0x00007FF8E9D126AD+29]\n\tRtlUserThreadStart [0x00007FF8EAD8A9F8+40]\n",
     "output_type": "error",
     "traceback": [
      "\u001b[1;31m---------------------------------------------------------------------------\u001b[0m",
      "\u001b[1;31mWebDriverException\u001b[0m                        Traceback (most recent call last)",
      "\u001b[1;32m~\\AppData\\Local\\Temp\\ipykernel_15584\\4177539460.py\u001b[0m in \u001b[0;36m<module>\u001b[1;34m\u001b[0m\n\u001b[0;32m     31\u001b[0m \u001b[1;33m\u001b[0m\u001b[0m\n\u001b[0;32m     32\u001b[0m     \u001b[1;31m# Click on the element\u001b[0m\u001b[1;33m\u001b[0m\u001b[1;33m\u001b[0m\u001b[0m\n\u001b[1;32m---> 33\u001b[1;33m     \u001b[0mbrowser\u001b[0m\u001b[1;33m.\u001b[0m\u001b[0mfind_by_id\u001b[0m\u001b[1;33m(\u001b[0m\u001b[1;34m'loadMore'\u001b[0m\u001b[1;33m)\u001b[0m\u001b[1;33m.\u001b[0m\u001b[0mclick\u001b[0m\u001b[1;33m(\u001b[0m\u001b[1;33m)\u001b[0m\u001b[1;33m\u001b[0m\u001b[1;33m\u001b[0m\u001b[0m\n\u001b[0m\u001b[0;32m     34\u001b[0m \u001b[1;33m\u001b[0m\u001b[0m\n\u001b[0;32m     35\u001b[0m \u001b[1;33m\u001b[0m\u001b[0m\n",
      "\u001b[1;32m~\\anaconda3\\lib\\site-packages\\splinter\\driver\\webdriver\\__init__.py\u001b[0m in \u001b[0;36mfind_by_id\u001b[1;34m(self, id, wait_time)\u001b[0m\n\u001b[0;32m    552\u001b[0m \u001b[1;33m\u001b[0m\u001b[0m\n\u001b[0;32m    553\u001b[0m     \u001b[1;32mdef\u001b[0m \u001b[0mfind_by_id\u001b[0m\u001b[1;33m(\u001b[0m\u001b[0mself\u001b[0m\u001b[1;33m,\u001b[0m \u001b[0mid\u001b[0m\u001b[1;33m,\u001b[0m \u001b[0mwait_time\u001b[0m\u001b[1;33m=\u001b[0m\u001b[1;32mNone\u001b[0m\u001b[1;33m)\u001b[0m\u001b[1;33m:\u001b[0m  \u001b[1;31m# NOQA: A002\u001b[0m\u001b[1;33m\u001b[0m\u001b[1;33m\u001b[0m\u001b[0m\n\u001b[1;32m--> 554\u001b[1;33m         return self.find_by(\n\u001b[0m\u001b[0;32m    555\u001b[0m             \u001b[0mself\u001b[0m\u001b[1;33m.\u001b[0m\u001b[0mdriver\u001b[0m\u001b[1;33m.\u001b[0m\u001b[0mfind_element\u001b[0m\u001b[1;33m,\u001b[0m\u001b[1;33m\u001b[0m\u001b[1;33m\u001b[0m\u001b[0m\n\u001b[0;32m    556\u001b[0m             \u001b[0mfinder_kwargs\u001b[0m\u001b[1;33m=\u001b[0m\u001b[1;33m{\u001b[0m\u001b[1;34m'by'\u001b[0m\u001b[1;33m:\u001b[0m \u001b[0mBy\u001b[0m\u001b[1;33m.\u001b[0m\u001b[0mID\u001b[0m\u001b[1;33m,\u001b[0m \u001b[1;34m'value'\u001b[0m\u001b[1;33m:\u001b[0m \u001b[0mid\u001b[0m\u001b[1;33m}\u001b[0m\u001b[1;33m,\u001b[0m\u001b[1;33m\u001b[0m\u001b[1;33m\u001b[0m\u001b[0m\n",
      "\u001b[1;32m~\\anaconda3\\lib\\site-packages\\splinter\\driver\\webdriver\\__init__.py\u001b[0m in \u001b[0;36mfind_by\u001b[1;34m(self, finder, finder_kwargs, original_find, original_query, wait_time)\u001b[0m\n\u001b[0;32m    274\u001b[0m \u001b[1;33m\u001b[0m\u001b[0m\n\u001b[0;32m    275\u001b[0m         \u001b[1;32mwhile\u001b[0m \u001b[0mtime\u001b[0m\u001b[1;33m.\u001b[0m\u001b[0mtime\u001b[0m\u001b[1;33m(\u001b[0m\u001b[1;33m)\u001b[0m \u001b[1;33m<\u001b[0m \u001b[0mend_time\u001b[0m\u001b[1;33m:\u001b[0m\u001b[1;33m\u001b[0m\u001b[1;33m\u001b[0m\u001b[0m\n\u001b[1;32m--> 276\u001b[1;33m             \u001b[0melem_list\u001b[0m \u001b[1;33m=\u001b[0m \u001b[0m_find\u001b[0m\u001b[1;33m(\u001b[0m\u001b[0mself\u001b[0m\u001b[1;33m,\u001b[0m \u001b[0mfinder\u001b[0m\u001b[1;33m,\u001b[0m \u001b[0mfinder_kwargs\u001b[0m\u001b[1;33m)\u001b[0m\u001b[1;33m\u001b[0m\u001b[1;33m\u001b[0m\u001b[0m\n\u001b[0m\u001b[0;32m    277\u001b[0m \u001b[1;33m\u001b[0m\u001b[0m\n\u001b[0;32m    278\u001b[0m             \u001b[1;32mif\u001b[0m \u001b[0melem_list\u001b[0m\u001b[1;33m:\u001b[0m\u001b[1;33m\u001b[0m\u001b[1;33m\u001b[0m\u001b[0m\n",
      "\u001b[1;32m~\\anaconda3\\lib\\site-packages\\splinter\\driver\\webdriver\\__init__.py\u001b[0m in \u001b[0;36m_find\u001b[1;34m(self, finder, finder_kwargs)\u001b[0m\n\u001b[0;32m    227\u001b[0m \u001b[1;33m\u001b[0m\u001b[0m\n\u001b[0;32m    228\u001b[0m     \u001b[1;32mtry\u001b[0m\u001b[1;33m:\u001b[0m\u001b[1;33m\u001b[0m\u001b[1;33m\u001b[0m\u001b[0m\n\u001b[1;32m--> 229\u001b[1;33m         \u001b[0melements\u001b[0m \u001b[1;33m=\u001b[0m \u001b[0mfinder\u001b[0m\u001b[1;33m(\u001b[0m\u001b[1;33m**\u001b[0m\u001b[0mfinder_kwargs\u001b[0m\u001b[1;33m)\u001b[0m\u001b[1;33m\u001b[0m\u001b[1;33m\u001b[0m\u001b[0m\n\u001b[0m\u001b[0;32m    230\u001b[0m         \u001b[1;32mif\u001b[0m \u001b[1;32mnot\u001b[0m \u001b[0misinstance\u001b[0m\u001b[1;33m(\u001b[0m\u001b[0melements\u001b[0m\u001b[1;33m,\u001b[0m \u001b[0mlist\u001b[0m\u001b[1;33m)\u001b[0m\u001b[1;33m:\u001b[0m\u001b[1;33m\u001b[0m\u001b[1;33m\u001b[0m\u001b[0m\n\u001b[0;32m    231\u001b[0m             \u001b[0melements\u001b[0m \u001b[1;33m=\u001b[0m \u001b[1;33m[\u001b[0m\u001b[0melements\u001b[0m\u001b[1;33m]\u001b[0m\u001b[1;33m\u001b[0m\u001b[1;33m\u001b[0m\u001b[0m\n",
      "\u001b[1;32m~\\anaconda3\\lib\\site-packages\\selenium\\webdriver\\remote\\webdriver.py\u001b[0m in \u001b[0;36mfind_element\u001b[1;34m(self, by, value)\u001b[0m\n\u001b[0;32m   1249\u001b[0m             \u001b[0mvalue\u001b[0m \u001b[1;33m=\u001b[0m \u001b[1;34m'[name=\"%s\"]'\u001b[0m \u001b[1;33m%\u001b[0m \u001b[0mvalue\u001b[0m\u001b[1;33m\u001b[0m\u001b[1;33m\u001b[0m\u001b[0m\n\u001b[0;32m   1250\u001b[0m \u001b[1;33m\u001b[0m\u001b[0m\n\u001b[1;32m-> 1251\u001b[1;33m         return self.execute(Command.FIND_ELEMENT, {\n\u001b[0m\u001b[0;32m   1252\u001b[0m             \u001b[1;34m'using'\u001b[0m\u001b[1;33m:\u001b[0m \u001b[0mby\u001b[0m\u001b[1;33m,\u001b[0m\u001b[1;33m\u001b[0m\u001b[1;33m\u001b[0m\u001b[0m\n\u001b[0;32m   1253\u001b[0m             'value': value})['value']\n",
      "\u001b[1;32m~\\anaconda3\\lib\\site-packages\\selenium\\webdriver\\remote\\webdriver.py\u001b[0m in \u001b[0;36mexecute\u001b[1;34m(self, driver_command, params)\u001b[0m\n\u001b[0;32m    428\u001b[0m         \u001b[0mresponse\u001b[0m \u001b[1;33m=\u001b[0m \u001b[0mself\u001b[0m\u001b[1;33m.\u001b[0m\u001b[0mcommand_executor\u001b[0m\u001b[1;33m.\u001b[0m\u001b[0mexecute\u001b[0m\u001b[1;33m(\u001b[0m\u001b[0mdriver_command\u001b[0m\u001b[1;33m,\u001b[0m \u001b[0mparams\u001b[0m\u001b[1;33m)\u001b[0m\u001b[1;33m\u001b[0m\u001b[1;33m\u001b[0m\u001b[0m\n\u001b[0;32m    429\u001b[0m         \u001b[1;32mif\u001b[0m \u001b[0mresponse\u001b[0m\u001b[1;33m:\u001b[0m\u001b[1;33m\u001b[0m\u001b[1;33m\u001b[0m\u001b[0m\n\u001b[1;32m--> 430\u001b[1;33m             \u001b[0mself\u001b[0m\u001b[1;33m.\u001b[0m\u001b[0merror_handler\u001b[0m\u001b[1;33m.\u001b[0m\u001b[0mcheck_response\u001b[0m\u001b[1;33m(\u001b[0m\u001b[0mresponse\u001b[0m\u001b[1;33m)\u001b[0m\u001b[1;33m\u001b[0m\u001b[1;33m\u001b[0m\u001b[0m\n\u001b[0m\u001b[0;32m    431\u001b[0m             response['value'] = self._unwrap_value(\n\u001b[0;32m    432\u001b[0m                 response.get('value', None))\n",
      "\u001b[1;32m~\\anaconda3\\lib\\site-packages\\selenium\\webdriver\\remote\\errorhandler.py\u001b[0m in \u001b[0;36mcheck_response\u001b[1;34m(self, response)\u001b[0m\n\u001b[0;32m    245\u001b[0m                 \u001b[0malert_text\u001b[0m \u001b[1;33m=\u001b[0m \u001b[0mvalue\u001b[0m\u001b[1;33m[\u001b[0m\u001b[1;34m'alert'\u001b[0m\u001b[1;33m]\u001b[0m\u001b[1;33m.\u001b[0m\u001b[0mget\u001b[0m\u001b[1;33m(\u001b[0m\u001b[1;34m'text'\u001b[0m\u001b[1;33m)\u001b[0m\u001b[1;33m\u001b[0m\u001b[1;33m\u001b[0m\u001b[0m\n\u001b[0;32m    246\u001b[0m             \u001b[1;32mraise\u001b[0m \u001b[0mexception_class\u001b[0m\u001b[1;33m(\u001b[0m\u001b[0mmessage\u001b[0m\u001b[1;33m,\u001b[0m \u001b[0mscreen\u001b[0m\u001b[1;33m,\u001b[0m \u001b[0mstacktrace\u001b[0m\u001b[1;33m,\u001b[0m \u001b[0malert_text\u001b[0m\u001b[1;33m)\u001b[0m  \u001b[1;31m# type: ignore[call-arg]  # mypy is not smart enough here\u001b[0m\u001b[1;33m\u001b[0m\u001b[1;33m\u001b[0m\u001b[0m\n\u001b[1;32m--> 247\u001b[1;33m         \u001b[1;32mraise\u001b[0m \u001b[0mexception_class\u001b[0m\u001b[1;33m(\u001b[0m\u001b[0mmessage\u001b[0m\u001b[1;33m,\u001b[0m \u001b[0mscreen\u001b[0m\u001b[1;33m,\u001b[0m \u001b[0mstacktrace\u001b[0m\u001b[1;33m)\u001b[0m\u001b[1;33m\u001b[0m\u001b[1;33m\u001b[0m\u001b[0m\n\u001b[0m\u001b[0;32m    248\u001b[0m \u001b[1;33m\u001b[0m\u001b[0m\n\u001b[0;32m    249\u001b[0m     \u001b[1;32mdef\u001b[0m \u001b[0m_value_or_default\u001b[0m\u001b[1;33m(\u001b[0m\u001b[0mself\u001b[0m\u001b[1;33m,\u001b[0m \u001b[0mobj\u001b[0m\u001b[1;33m:\u001b[0m \u001b[0mMapping\u001b[0m\u001b[1;33m[\u001b[0m\u001b[0m_KT\u001b[0m\u001b[1;33m,\u001b[0m \u001b[0m_VT\u001b[0m\u001b[1;33m]\u001b[0m\u001b[1;33m,\u001b[0m \u001b[0mkey\u001b[0m\u001b[1;33m:\u001b[0m \u001b[0m_KT\u001b[0m\u001b[1;33m,\u001b[0m \u001b[0mdefault\u001b[0m\u001b[1;33m:\u001b[0m \u001b[0m_VT\u001b[0m\u001b[1;33m)\u001b[0m \u001b[1;33m->\u001b[0m \u001b[0m_VT\u001b[0m\u001b[1;33m:\u001b[0m\u001b[1;33m\u001b[0m\u001b[1;33m\u001b[0m\u001b[0m\n",
      "\u001b[1;31mWebDriverException\u001b[0m: Message: disconnected: not connected to DevTools\n  (failed to check if window was closed: disconnected: not connected to DevTools)\n  (Session info: MicrosoftEdge=114.0.1823.41)\nStacktrace:\nBacktrace:\n\tGetHandleVerifier [0x00007FF64643B5A2+64226]\n\tMicrosoft::Applications::Events::EventProperty::~EventProperty [0x00007FF6463CBB62+770994]\n\t(No symbol) [0x00007FF64618CC3C]\n\t(No symbol) [0x00007FF646177FB3]\n\t(No symbol) [0x00007FF646177D70]\n\t(No symbol) [0x00007FF64618E461]\n\t(No symbol) [0x00007FF646207926]\n\t(No symbol) [0x00007FF6461EEDC3]\n\t(No symbol) [0x00007FF6461C3BDC]\n\t(No symbol) [0x00007FF6461C2DC6]\n\t(No symbol) [0x00007FF6461C4354]\n\tMicrosoft::Applications::Events::ILogManager::DispatchEventBroadcast [0x00007FF646618E49+1319081]\n\t(No symbol) [0x00007FF64623BEE8]\n\tMicrosoft::Applications::Events::EventProperty::~EventProperty [0x00007FF646317AC1+33553]\n\tMicrosoft::Applications::Events::EventProperty::~EventProperty [0x00007FF64630FEFF+1871]\n\tMicrosoft::Applications::Events::ILogManager::DispatchEventBroadcast [0x00007FF646617A63+1313987]\n\tMicrosoft::Applications::Events::ILogConfiguration::operator* [0x00007FF6463D4198+20232]\n\tMicrosoft::Applications::Events::ILogConfiguration::operator* [0x00007FF6463D07B4+5412]\n\tMicrosoft::Applications::Events::ILogConfiguration::operator* [0x00007FF6463D08AC+5660]\n\tMicrosoft::Applications::Events::EventProperty::~EventProperty [0x00007FF6463C4561+740785]\n\tBaseThreadInitThunk [0x00007FF8E9D126AD+29]\n\tRtlUserThreadStart [0x00007FF8EAD8A9F8+40]\n"
     ]
    }
   ],
   "source": [
    "# This is for loading more products \n",
    "max_iteration = 281\n",
    "iteration = 0\n",
    "\n",
    "while iteration<= max_iteration:\n",
    "    # Extract the HTML of the current page\n",
    "    html = browser.html\n",
    "    \n",
    "    # Create a BeautifulSoup object\n",
    "    soup = BeautifulSoup(html, 'html.parser')\n",
    "    \n",
    "    all_links = soup.find_all(\"div\", class_ = 'coveo-product-items')\n",
    "\n",
    "    links = []\n",
    "    \n",
    "    for link in all_links:\n",
    "        results = link.a['href']\n",
    "        links.append(results)\n",
    "        \n",
    "    # Find the element by ID\n",
    "    element = soup.find(id='loadMore')\n",
    "    \n",
    "    if element is None:\n",
    "        # Element not found, exit the loop\n",
    "        break\n",
    "        \n",
    "    # Wait for 2 seconds\n",
    "    time.sleep(1)\n",
    "    \n",
    "    \n",
    "        \n",
    "    # Click on the element\n",
    "    browser.find_by_id('loadMore').click()\n",
    "    \n",
    "    \n",
    "    \n",
    "    iteration += 1\n",
    "    \n",
    "    print(f'Iteration #: {iteration}')\n",
    "    \n",
    "browser.quit()"
   ]
  },
  {
   "cell_type": "code",
   "execution_count": 5,
   "id": "dd7f6c55",
   "metadata": {},
   "outputs": [
    {
     "data": {
      "text/plain": [
       "48"
      ]
     },
     "execution_count": 5,
     "metadata": {},
     "output_type": "execute_result"
    }
   ],
   "source": [
    "len(links)"
   ]
  },
  {
   "cell_type": "code",
   "execution_count": 6,
   "id": "dab256df",
   "metadata": {},
   "outputs": [],
   "source": [
    "browser = Browser('chrome')\n",
    "\n",
    "\n",
    "for record in links:\n",
    "    url = record\n",
    "    browser.visit(url)\n",
    "    html = browser.html\n",
    "    soup=BeautifulSoup(html, 'html.parser')\n",
    "    results = browser.links.find_by_text('English')\n",
    "    results.click()\n",
    "    break\n",
    "    "
   ]
  },
  {
   "cell_type": "code",
   "execution_count": 31,
   "id": "93d2f5df",
   "metadata": {},
   "outputs": [
    {
     "name": "stdout",
     "output_type": "stream",
     "text": [
      "Ruffino has been at the forefront of Italian winemaking since 1877. This lovely prosecco rosé is light pink and expresses approachable notes of strawberry, rose petals, red berries, and peach. A refreshingly crisp finish caps the medium-bodied and flavourful palate. Pair with grilled fish over a bed of rice.\n"
     ]
    }
   ],
   "source": [
    "old_price = soup.find('span', class_ = 'old-price')\n",
    "old = old_price.find('span', class_ = 'price')\n",
    "regular_price = old.find('span', class_ = 'price').text\n",
    "\n",
    "sale_price = soup.find('span', class_ = 'special-price')\n",
    "new_price = sale_price.find('span', class_ = 'price')\n",
    "onsale = new_price.find('span', class_ = 'price').text\n",
    "\n",
    "name = soup.find('div', class_ = 'page-title-wrapper').text\n",
    "onsale = soup.find('div', class_ = 'amlabel-text').text\n",
    "rating = soup.find('div', class_ = 'bv_avgRating_component_container notranslate').text\n",
    "reviews = soup.find('div', class_ = 'bv_numReviews_text').text\n",
    "size = soup.find('div', class_ = 'lcbo-product-size').text\n",
    "description = soup.find('div', class_ = 'testing_note').text\n",
    "\n"
   ]
  },
  {
   "cell_type": "code",
   "execution_count": 27,
   "id": "6970ee82",
   "metadata": {},
   "outputs": [
    {
     "name": "stdout",
     "output_type": "stream",
     "text": [
      "$18.00\n"
     ]
    }
   ],
   "source": [
    "description = soup.find('div', class_ = 'testing_note').text"
   ]
  },
  {
   "cell_type": "code",
   "execution_count": null,
   "id": "64cda855",
   "metadata": {},
   "outputs": [],
   "source": [
    "print(description)"
   ]
  }
 ],
 "metadata": {
  "kernelspec": {
   "display_name": "Python 3 (ipykernel)",
   "language": "python",
   "name": "python3"
  },
  "language_info": {
   "codemirror_mode": {
    "name": "ipython",
    "version": 3
   },
   "file_extension": ".py",
   "mimetype": "text/x-python",
   "name": "python",
   "nbconvert_exporter": "python",
   "pygments_lexer": "ipython3",
   "version": "3.9.13"
  }
 },
 "nbformat": 4,
 "nbformat_minor": 5
}
